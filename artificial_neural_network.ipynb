{
 "cells": [
  {
   "cell_type": "markdown",
   "metadata": {
    "colab_type": "text",
    "id": "lP6JLo1tGNBg"
   },
   "source": [
    "# Artificial Neural Network"
   ]
  },
  {
   "cell_type": "markdown",
   "metadata": {
    "colab_type": "text",
    "id": "gWZyYmS_UE_L"
   },
   "source": [
    "### Importing the libraries"
   ]
  },
  {
   "cell_type": "code",
   "execution_count": 1,
   "metadata": {
    "colab": {},
    "colab_type": "code",
    "id": "MxkJoQBkUIHC"
   },
   "outputs": [],
   "source": [
    "import numpy as np\n",
    "import pandas as pd\n",
    "import tensorflow as tf"
   ]
  },
  {
   "cell_type": "code",
   "execution_count": 2,
   "metadata": {
    "colab": {
     "base_uri": "https://localhost:8080/",
     "height": 34
    },
    "colab_type": "code",
    "id": "ZaTwK7ojXr2F",
    "outputId": "0b27a96d-d11a-43e8-ab4b-87c1f01896fe"
   },
   "outputs": [
    {
     "data": {
      "text/plain": [
       "'2.2.0'"
      ]
     },
     "execution_count": 2,
     "metadata": {},
     "output_type": "execute_result"
    }
   ],
   "source": [
    "tf.__version__"
   ]
  },
  {
   "cell_type": "markdown",
   "metadata": {
    "colab_type": "text",
    "id": "1E0Q3aoKUCRX"
   },
   "source": [
    "## Part 1 - Data Preprocessing"
   ]
  },
  {
   "cell_type": "markdown",
   "metadata": {
    "colab_type": "text",
    "id": "cKWAkFVGUU0Z"
   },
   "source": [
    "### Importing the dataset"
   ]
  },
  {
   "cell_type": "code",
   "execution_count": 3,
   "metadata": {
    "colab": {},
    "colab_type": "code",
    "id": "MXUkhkMfU4wq"
   },
   "outputs": [],
   "source": [
    "dataset = pd.read_csv('Churn_Modelling.csv')\n",
    "X = dataset.iloc[:, 3:-1].values\n",
    "#features-- CreditScore,Geography,Gender,Age,Tenure,Balance,NumOfProducts,HasCrCard,IsActiveMember,EstimatedSalary\n",
    "y = dataset.iloc[:, -1].values\n",
    "#target(binary)-- Exited (yes=1, no=0)"
   ]
  },
  {
   "cell_type": "code",
   "execution_count": 4,
   "metadata": {
    "colab": {
     "base_uri": "https://localhost:8080/",
     "height": 137
    },
    "colab_type": "code",
    "id": "VYP9cQTWbzuI",
    "outputId": "797e7a64-9bac-436a-8c9c-94437e5e7587"
   },
   "outputs": [
    {
     "name": "stdout",
     "output_type": "stream",
     "text": [
      "[[619 'France' 'Female' ... 1 1 101348.88]\n",
      " [608 'Spain' 'Female' ... 0 1 112542.58]\n",
      " [502 'France' 'Female' ... 1 0 113931.57]\n",
      " ...\n",
      " [709 'France' 'Female' ... 0 1 42085.58]\n",
      " [772 'Germany' 'Male' ... 1 0 92888.52]\n",
      " [792 'France' 'Female' ... 1 0 38190.78]]\n"
     ]
    }
   ],
   "source": [
    "print(X)"
   ]
  },
  {
   "cell_type": "code",
   "execution_count": 5,
   "metadata": {
    "colab": {
     "base_uri": "https://localhost:8080/",
     "height": 34
    },
    "colab_type": "code",
    "id": "38vKGE6Nb2RR",
    "outputId": "a815e42a-e0dd-4cb5-ab97-b17ead98fbc3"
   },
   "outputs": [
    {
     "name": "stdout",
     "output_type": "stream",
     "text": [
      "[1 0 1 ... 1 1 0]\n"
     ]
    }
   ],
   "source": [
    "print(y)"
   ]
  },
  {
   "cell_type": "markdown",
   "metadata": {
    "colab_type": "text",
    "id": "N6bQ0UgSU-NJ"
   },
   "source": [
    "### Encoding categorical data-- no missing data"
   ]
  },
  {
   "cell_type": "markdown",
   "metadata": {
    "colab_type": "text",
    "id": "le5MJreAbW52"
   },
   "source": [
    "Label Encoding the \"Gender\" column"
   ]
  },
  {
   "cell_type": "code",
   "execution_count": 6,
   "metadata": {
    "colab": {},
    "colab_type": "code",
    "id": "PxVKWXxLbczC"
   },
   "outputs": [],
   "source": [
    "from sklearn.preprocessing import LabelEncoder\n",
    "le = LabelEncoder()\n",
    "X[:, 2] = le.fit_transform(X[:, 2])\n",
    "#label encoding 'gender' column"
   ]
  },
  {
   "cell_type": "code",
   "execution_count": 7,
   "metadata": {
    "colab": {
     "base_uri": "https://localhost:8080/",
     "height": 137
    },
    "colab_type": "code",
    "id": "-M1KboxFb6OO",
    "outputId": "e2b8c7e8-0cbc-4cdf-f4eb-7f0853a00b88"
   },
   "outputs": [
    {
     "name": "stdout",
     "output_type": "stream",
     "text": [
      "[[619 'France' 0 ... 1 1 101348.88]\n",
      " [608 'Spain' 0 ... 0 1 112542.58]\n",
      " [502 'France' 0 ... 1 0 113931.57]\n",
      " ...\n",
      " [709 'France' 0 ... 0 1 42085.58]\n",
      " [772 'Germany' 1 ... 1 0 92888.52]\n",
      " [792 'France' 0 ... 1 0 38190.78]]\n"
     ]
    }
   ],
   "source": [
    "print(X)"
   ]
  },
  {
   "cell_type": "markdown",
   "metadata": {
    "colab_type": "text",
    "id": "CUxGZezpbMcb"
   },
   "source": [
    "One Hot Encoding the \"Geography\" column"
   ]
  },
  {
   "cell_type": "code",
   "execution_count": 8,
   "metadata": {
    "colab": {},
    "colab_type": "code",
    "id": "AMXC8-KMVirw"
   },
   "outputs": [],
   "source": [
    "from sklearn.compose import ColumnTransformer\n",
    "from sklearn.preprocessing import OneHotEncoder\n",
    "ct = ColumnTransformer(transformers=[('encoder', OneHotEncoder(), [1])], remainder='passthrough')\n",
    "X = np.array(ct.fit_transform(X))\n",
    "#one-hot endoded 'Geography' column"
   ]
  },
  {
   "cell_type": "code",
   "execution_count": 9,
   "metadata": {
    "colab": {
     "base_uri": "https://localhost:8080/",
     "height": 137
    },
    "colab_type": "code",
    "id": "ZcxwEon-b8nV",
    "outputId": "23a98af4-5e33-4b26-c27b-f06e3c5d2baf"
   },
   "outputs": [
    {
     "name": "stdout",
     "output_type": "stream",
     "text": [
      "[[1.0 0.0 0.0 ... 1 1 101348.88]\n",
      " [0.0 0.0 1.0 ... 0 1 112542.58]\n",
      " [1.0 0.0 0.0 ... 1 0 113931.57]\n",
      " ...\n",
      " [1.0 0.0 0.0 ... 0 1 42085.58]\n",
      " [0.0 1.0 0.0 ... 1 0 92888.52]\n",
      " [1.0 0.0 0.0 ... 1 0 38190.78]]\n"
     ]
    }
   ],
   "source": [
    "print(X)"
   ]
  },
  {
   "cell_type": "markdown",
   "metadata": {
    "colab_type": "text",
    "id": "vHol938cW8zd"
   },
   "source": [
    "### Splitting the dataset into the Training set and Test set"
   ]
  },
  {
   "cell_type": "code",
   "execution_count": 10,
   "metadata": {
    "colab": {},
    "colab_type": "code",
    "id": "Z-TDt0Y_XEfc"
   },
   "outputs": [],
   "source": [
    "from sklearn.model_selection import train_test_split\n",
    "X_train, X_test, y_train, y_test = train_test_split(X, y, test_size = 0.2, random_state = 0)"
   ]
  },
  {
   "cell_type": "markdown",
   "metadata": {
    "colab_type": "text",
    "id": "RE_FcHyfV3TQ"
   },
   "source": [
    "### Feature Scaling"
   ]
  },
  {
   "cell_type": "code",
   "execution_count": 11,
   "metadata": {
    "colab": {},
    "colab_type": "code",
    "id": "ViCrE00rV8Sk"
   },
   "outputs": [],
   "source": [
    "from sklearn.preprocessing import StandardScaler\n",
    "sc = StandardScaler()\n",
    "X_train = sc.fit_transform(X_train)\n",
    "X_test = sc.transform(X_test)"
   ]
  },
  {
   "cell_type": "markdown",
   "metadata": {
    "colab_type": "text",
    "id": "-zfEzkRVXIwF"
   },
   "source": [
    "## Part 2 - Building the ANN"
   ]
  },
  {
   "cell_type": "markdown",
   "metadata": {
    "colab_type": "text",
    "id": "KvdeScabXtlB"
   },
   "source": [
    "### Initializing the ANN"
   ]
  },
  {
   "cell_type": "code",
   "execution_count": 12,
   "metadata": {
    "colab": {},
    "colab_type": "code",
    "id": "3dtrScHxXQox"
   },
   "outputs": [],
   "source": [
    "ann = tf.keras.models.Sequential()\n",
    "#Sequential class belongs to models module. Models module belongs to keras library of tensorflow package\n",
    "#Sequential class allows to build a layered neural network "
   ]
  },
  {
   "cell_type": "markdown",
   "metadata": {
    "colab_type": "text",
    "id": "rP6urV6SX7kS"
   },
   "source": [
    "### Adding the input layer and the first hidden layer"
   ]
  },
  {
   "cell_type": "code",
   "execution_count": 13,
   "metadata": {
    "colab": {},
    "colab_type": "code",
    "id": "bppGycBXYCQr"
   },
   "outputs": [],
   "source": [
    "ann.add(tf.keras.layers.Dense(units=6, activation='relu'))\n",
    "#add() function adds a layer within a neural network\n",
    "#layers are created as objects of Dense class of layers module from keras library of tensorflow package \n",
    "#all input layer neurons are fully connected to all first hidden layer neurons-- Dense() class \n",
    "#units is the number of neurons in first hidden layer , input layer neurons will automatically be equal to number of features"
   ]
  },
  {
   "cell_type": "markdown",
   "metadata": {
    "colab_type": "text",
    "id": "BELWAc_8YJze"
   },
   "source": [
    "### Adding the second hidden layer"
   ]
  },
  {
   "cell_type": "code",
   "execution_count": 14,
   "metadata": {
    "colab": {},
    "colab_type": "code",
    "id": "JneR0u0sYRTd"
   },
   "outputs": [],
   "source": [
    "ann.add(tf.keras.layers.Dense(units=6, activation='relu'))\n",
    "#all first hidden layer neurons are fully connected to all second hidden layer neurons-- Dense() class "
   ]
  },
  {
   "cell_type": "markdown",
   "metadata": {
    "colab_type": "text",
    "id": "OyNEe6RXYcU4"
   },
   "source": [
    "### Adding the output layer"
   ]
  },
  {
   "cell_type": "code",
   "execution_count": 15,
   "metadata": {
    "colab": {},
    "colab_type": "code",
    "id": "Cn3x41RBYfvY"
   },
   "outputs": [],
   "source": [
    "ann.add(tf.keras.layers.Dense(units=1, activation='sigmoid'))\n",
    "#for output layer, always have no activation function(continuous target output) or sortMax(classification between more than 2 categories)\n",
    "#binary classification target --> sigmoid function (yes=1 no=0)"
   ]
  },
  {
   "cell_type": "markdown",
   "metadata": {
    "colab_type": "text",
    "id": "JT4u2S1_Y4WG"
   },
   "source": [
    "## Part 3 - Training the ANN"
   ]
  },
  {
   "cell_type": "markdown",
   "metadata": {
    "colab_type": "text",
    "id": "8GWlJChhY_ZI"
   },
   "source": [
    "### Compiling the ANN"
   ]
  },
  {
   "cell_type": "code",
   "execution_count": 16,
   "metadata": {
    "colab": {},
    "colab_type": "code",
    "id": "fG3RrwDXZEaS"
   },
   "outputs": [],
   "source": [
    "ann.compile(optimizer = 'adam', loss = 'binary_crossentropy', metrics = ['accuracy'])\n",
    "#compile() method is a function of Sequential() class being called by its object 'ann'\n",
    "#loss function is the method for calculating the errors-- always use binary_crossentropy for binary classification\n",
    "#adam optimizer takes care of loss and fastens optimization(updates weights--backpropagate) by applying SGD algorithm "
   ]
  },
  {
   "cell_type": "markdown",
   "metadata": {
    "colab_type": "text",
    "id": "0QR_G5u7ZLSM"
   },
   "source": [
    "### Training the ANN on the Training set"
   ]
  },
  {
   "cell_type": "code",
   "execution_count": 17,
   "metadata": {
    "colab": {
     "base_uri": "https://localhost:8080/",
     "height": 1000
    },
    "colab_type": "code",
    "id": "nHZ-LKv_ZRb3",
    "outputId": "718cc4b0-b5aa-40f0-9b20-d3d31730a531"
   },
   "outputs": [
    {
     "name": "stdout",
     "output_type": "stream",
     "text": [
      "Epoch 1/100\n",
      "250/250 [==============================] - 0s 652us/step - loss: 0.5264 - accuracy: 0.7943\n",
      "Epoch 2/100\n",
      "250/250 [==============================] - 0s 583us/step - loss: 0.4742 - accuracy: 0.7960\n",
      "Epoch 3/100\n",
      "250/250 [==============================] - 0s 602us/step - loss: 0.4505 - accuracy: 0.7960\n",
      "Epoch 4/100\n",
      "250/250 [==============================] - 0s 650us/step - loss: 0.4373 - accuracy: 0.7960\n",
      "Epoch 5/100\n",
      "250/250 [==============================] - 0s 626us/step - loss: 0.4305 - accuracy: 0.7960\n",
      "Epoch 6/100\n",
      "250/250 [==============================] - 0s 550us/step - loss: 0.4262 - accuracy: 0.8050\n",
      "Epoch 7/100\n",
      "250/250 [==============================] - 0s 593us/step - loss: 0.4232 - accuracy: 0.8144\n",
      "Epoch 8/100\n",
      "250/250 [==============================] - 0s 622us/step - loss: 0.4205 - accuracy: 0.8198\n",
      "Epoch 9/100\n",
      "250/250 [==============================] - 0s 627us/step - loss: 0.4183 - accuracy: 0.8229\n",
      "Epoch 10/100\n",
      "250/250 [==============================] - 0s 611us/step - loss: 0.4164 - accuracy: 0.8249\n",
      "Epoch 11/100\n",
      "250/250 [==============================] - 0s 612us/step - loss: 0.4145 - accuracy: 0.8269\n",
      "Epoch 12/100\n",
      "250/250 [==============================] - 0s 590us/step - loss: 0.4126 - accuracy: 0.8288\n",
      "Epoch 13/100\n",
      "250/250 [==============================] - 0s 578us/step - loss: 0.4106 - accuracy: 0.8289\n",
      "Epoch 14/100\n",
      "250/250 [==============================] - 0s 599us/step - loss: 0.4088 - accuracy: 0.8324\n",
      "Epoch 15/100\n",
      "250/250 [==============================] - 0s 622us/step - loss: 0.4051 - accuracy: 0.8330\n",
      "Epoch 16/100\n",
      "250/250 [==============================] - 0s 590us/step - loss: 0.4002 - accuracy: 0.8340\n",
      "Epoch 17/100\n",
      "250/250 [==============================] - 0s 597us/step - loss: 0.3922 - accuracy: 0.8409\n",
      "Epoch 18/100\n",
      "250/250 [==============================] - 0s 587us/step - loss: 0.3821 - accuracy: 0.8455\n",
      "Epoch 19/100\n",
      "250/250 [==============================] - 0s 636us/step - loss: 0.3736 - accuracy: 0.8497\n",
      "Epoch 20/100\n",
      "250/250 [==============================] - 0s 655us/step - loss: 0.3661 - accuracy: 0.8519\n",
      "Epoch 21/100\n",
      "250/250 [==============================] - 0s 622us/step - loss: 0.3606 - accuracy: 0.8540\n",
      "Epoch 22/100\n",
      "250/250 [==============================] - 0s 628us/step - loss: 0.3560 - accuracy: 0.8541\n",
      "Epoch 23/100\n",
      "250/250 [==============================] - 0s 665us/step - loss: 0.3524 - accuracy: 0.8541\n",
      "Epoch 24/100\n",
      "250/250 [==============================] - 0s 646us/step - loss: 0.3499 - accuracy: 0.8558\n",
      "Epoch 25/100\n",
      "250/250 [==============================] - 0s 646us/step - loss: 0.3480 - accuracy: 0.8560\n",
      "Epoch 26/100\n",
      "250/250 [==============================] - 0s 624us/step - loss: 0.3466 - accuracy: 0.8571\n",
      "Epoch 27/100\n",
      "250/250 [==============================] - 0s 607us/step - loss: 0.3460 - accuracy: 0.8583\n",
      "Epoch 28/100\n",
      "250/250 [==============================] - 0s 628us/step - loss: 0.3451 - accuracy: 0.8561\n",
      "Epoch 29/100\n",
      "250/250 [==============================] - 0s 601us/step - loss: 0.3442 - accuracy: 0.8570\n",
      "Epoch 30/100\n",
      "250/250 [==============================] - 0s 636us/step - loss: 0.3436 - accuracy: 0.8586\n",
      "Epoch 31/100\n",
      "250/250 [==============================] - 0s 591us/step - loss: 0.3431 - accuracy: 0.8586\n",
      "Epoch 32/100\n",
      "250/250 [==============================] - 0s 601us/step - loss: 0.3427 - accuracy: 0.8577\n",
      "Epoch 33/100\n",
      "250/250 [==============================] - 0s 577us/step - loss: 0.3419 - accuracy: 0.8571\n",
      "Epoch 34/100\n",
      "250/250 [==============================] - 0s 590us/step - loss: 0.3418 - accuracy: 0.8585\n",
      "Epoch 35/100\n",
      "250/250 [==============================] - 0s 591us/step - loss: 0.3412 - accuracy: 0.8594\n",
      "Epoch 36/100\n",
      "250/250 [==============================] - 0s 582us/step - loss: 0.3402 - accuracy: 0.8589\n",
      "Epoch 37/100\n",
      "250/250 [==============================] - 0s 611us/step - loss: 0.3406 - accuracy: 0.8587\n",
      "Epoch 38/100\n",
      "250/250 [==============================] - 0s 655us/step - loss: 0.3399 - accuracy: 0.8579\n",
      "Epoch 39/100\n",
      "250/250 [==============================] - 0s 604us/step - loss: 0.3396 - accuracy: 0.8601\n",
      "Epoch 40/100\n",
      "250/250 [==============================] - 0s 605us/step - loss: 0.3394 - accuracy: 0.8605\n",
      "Epoch 41/100\n",
      "250/250 [==============================] - 0s 588us/step - loss: 0.3391 - accuracy: 0.8591\n",
      "Epoch 42/100\n",
      "250/250 [==============================] - 0s 594us/step - loss: 0.3391 - accuracy: 0.8589\n",
      "Epoch 43/100\n",
      "250/250 [==============================] - 0s 591us/step - loss: 0.3387 - accuracy: 0.8601\n",
      "Epoch 44/100\n",
      "250/250 [==============================] - 0s 595us/step - loss: 0.3388 - accuracy: 0.8596\n",
      "Epoch 45/100\n",
      "250/250 [==============================] - 0s 587us/step - loss: 0.3384 - accuracy: 0.8594\n",
      "Epoch 46/100\n",
      "250/250 [==============================] - 0s 623us/step - loss: 0.3385 - accuracy: 0.85930s - loss: 0.3387 - accuracy: 0.85\n",
      "Epoch 47/100\n",
      "250/250 [==============================] - 0s 584us/step - loss: 0.3383 - accuracy: 0.8583\n",
      "Epoch 48/100\n",
      "250/250 [==============================] - 0s 668us/step - loss: 0.3381 - accuracy: 0.8591\n",
      "Epoch 49/100\n",
      "250/250 [==============================] - 0s 655us/step - loss: 0.3377 - accuracy: 0.8612\n",
      "Epoch 50/100\n",
      "250/250 [==============================] - 0s 652us/step - loss: 0.3376 - accuracy: 0.8594\n",
      "Epoch 51/100\n",
      "250/250 [==============================] - 0s 618us/step - loss: 0.3377 - accuracy: 0.8608\n",
      "Epoch 52/100\n",
      "250/250 [==============================] - 0s 641us/step - loss: 0.3372 - accuracy: 0.8606\n",
      "Epoch 53/100\n",
      "250/250 [==============================] - 0s 599us/step - loss: 0.3372 - accuracy: 0.8604\n",
      "Epoch 54/100\n",
      "250/250 [==============================] - 0s 588us/step - loss: 0.3373 - accuracy: 0.8596\n",
      "Epoch 55/100\n",
      "250/250 [==============================] - 0s 580us/step - loss: 0.3370 - accuracy: 0.8611\n",
      "Epoch 56/100\n",
      "250/250 [==============================] - 0s 599us/step - loss: 0.3371 - accuracy: 0.8597\n",
      "Epoch 57/100\n",
      "250/250 [==============================] - 0s 578us/step - loss: 0.3368 - accuracy: 0.8608\n",
      "Epoch 58/100\n",
      "250/250 [==============================] - 0s 597us/step - loss: 0.3366 - accuracy: 0.8610\n",
      "Epoch 59/100\n",
      "250/250 [==============================] - 0s 614us/step - loss: 0.3367 - accuracy: 0.8608\n",
      "Epoch 60/100\n",
      "250/250 [==============================] - 0s 627us/step - loss: 0.3366 - accuracy: 0.8622\n",
      "Epoch 61/100\n",
      "250/250 [==============================] - 0s 589us/step - loss: 0.3366 - accuracy: 0.8614\n",
      "Epoch 62/100\n",
      "250/250 [==============================] - 0s 622us/step - loss: 0.3363 - accuracy: 0.8620\n",
      "Epoch 63/100\n",
      "250/250 [==============================] - 0s 591us/step - loss: 0.3362 - accuracy: 0.8604\n",
      "Epoch 64/100\n",
      "250/250 [==============================] - 0s 595us/step - loss: 0.3357 - accuracy: 0.8631\n",
      "Epoch 65/100\n",
      "250/250 [==============================] - 0s 574us/step - loss: 0.3363 - accuracy: 0.8612\n",
      "Epoch 66/100\n",
      "250/250 [==============================] - 0s 548us/step - loss: 0.3360 - accuracy: 0.8614\n",
      "Epoch 67/100\n",
      "250/250 [==============================] - 0s 590us/step - loss: 0.3360 - accuracy: 0.8615\n",
      "Epoch 68/100\n",
      "250/250 [==============================] - 0s 603us/step - loss: 0.3357 - accuracy: 0.8625\n",
      "Epoch 69/100\n",
      "250/250 [==============================] - 0s 645us/step - loss: 0.3362 - accuracy: 0.8614\n",
      "Epoch 70/100\n",
      "250/250 [==============================] - 0s 690us/step - loss: 0.3359 - accuracy: 0.8620\n",
      "Epoch 71/100\n",
      "250/250 [==============================] - 0s 670us/step - loss: 0.3358 - accuracy: 0.8626\n",
      "Epoch 72/100\n",
      "250/250 [==============================] - 0s 614us/step - loss: 0.3358 - accuracy: 0.8620\n",
      "Epoch 73/100\n",
      "250/250 [==============================] - 0s 589us/step - loss: 0.3358 - accuracy: 0.8616\n",
      "Epoch 74/100\n",
      "250/250 [==============================] - 0s 618us/step - loss: 0.3358 - accuracy: 0.8597\n",
      "Epoch 75/100\n",
      "250/250 [==============================] - 0s 591us/step - loss: 0.3356 - accuracy: 0.8633\n",
      "Epoch 76/100\n",
      "250/250 [==============================] - 0s 595us/step - loss: 0.3356 - accuracy: 0.8621\n",
      "Epoch 77/100\n",
      "250/250 [==============================] - 0s 619us/step - loss: 0.3355 - accuracy: 0.8621\n",
      "Epoch 78/100\n",
      "250/250 [==============================] - 0s 586us/step - loss: 0.3354 - accuracy: 0.8619\n",
      "Epoch 79/100\n",
      "250/250 [==============================] - 0s 584us/step - loss: 0.3351 - accuracy: 0.8634\n",
      "Epoch 80/100\n",
      "250/250 [==============================] - 0s 585us/step - loss: 0.3356 - accuracy: 0.8634\n",
      "Epoch 81/100\n",
      "250/250 [==============================] - 0s 584us/step - loss: 0.3354 - accuracy: 0.8612\n",
      "Epoch 82/100\n",
      "250/250 [==============================] - 0s 614us/step - loss: 0.3356 - accuracy: 0.8615\n",
      "Epoch 83/100\n",
      "250/250 [==============================] - 0s 636us/step - loss: 0.3353 - accuracy: 0.8614\n",
      "Epoch 84/100\n",
      "250/250 [==============================] - 0s 598us/step - loss: 0.3351 - accuracy: 0.8620\n",
      "Epoch 85/100\n",
      "250/250 [==============================] - 0s 588us/step - loss: 0.3353 - accuracy: 0.8618\n",
      "Epoch 86/100\n",
      "250/250 [==============================] - 0s 551us/step - loss: 0.3351 - accuracy: 0.8630\n",
      "Epoch 87/100\n",
      "250/250 [==============================] - 0s 616us/step - loss: 0.3353 - accuracy: 0.8610\n",
      "Epoch 88/100\n",
      "250/250 [==============================] - 0s 603us/step - loss: 0.3351 - accuracy: 0.8620\n",
      "Epoch 89/100\n",
      "250/250 [==============================] - 0s 642us/step - loss: 0.3352 - accuracy: 0.8620\n",
      "Epoch 90/100\n",
      "250/250 [==============================] - 0s 617us/step - loss: 0.3348 - accuracy: 0.8624\n",
      "Epoch 91/100\n",
      "250/250 [==============================] - 0s 626us/step - loss: 0.3351 - accuracy: 0.8626\n",
      "Epoch 92/100\n",
      "250/250 [==============================] - 0s 572us/step - loss: 0.3349 - accuracy: 0.8611\n",
      "Epoch 93/100\n",
      "250/250 [==============================] - 0s 585us/step - loss: 0.3349 - accuracy: 0.8626\n",
      "Epoch 94/100\n",
      "250/250 [==============================] - 0s 604us/step - loss: 0.3348 - accuracy: 0.8625\n",
      "Epoch 95/100\n",
      "250/250 [==============================] - 0s 593us/step - loss: 0.3348 - accuracy: 0.8624\n",
      "Epoch 96/100\n",
      "250/250 [==============================] - 0s 592us/step - loss: 0.3351 - accuracy: 0.8626\n",
      "Epoch 97/100\n",
      "250/250 [==============================] - 0s 620us/step - loss: 0.3350 - accuracy: 0.8621\n",
      "Epoch 98/100\n",
      "250/250 [==============================] - 0s 597us/step - loss: 0.3351 - accuracy: 0.8639\n",
      "Epoch 99/100\n",
      "250/250 [==============================] - 0s 568us/step - loss: 0.3349 - accuracy: 0.8614\n",
      "Epoch 100/100\n",
      "250/250 [==============================] - 0s 597us/step - loss: 0.3350 - accuracy: 0.8631\n"
     ]
    },
    {
     "data": {
      "text/plain": [
       "<tensorflow.python.keras.callbacks.History at 0x21827fcd388>"
      ]
     },
     "execution_count": 17,
     "metadata": {},
     "output_type": "execute_result"
    }
   ],
   "source": [
    "ann.fit(X_train, y_train, batch_size = 32, epochs = 100)\n",
    "#fit() method is a function of Sequential() class being called by its object 'ann'\n",
    "#mini-batch gradient descent algorithm with b=32"
   ]
  },
  {
   "cell_type": "markdown",
   "metadata": {
    "colab_type": "text",
    "id": "tJj5k2MxZga3"
   },
   "source": [
    "## Part 4 - Making the predictions and evaluating the model"
   ]
  },
  {
   "cell_type": "markdown",
   "metadata": {
    "colab_type": "text",
    "id": "84QFoqGYeXHL"
   },
   "source": [
    "### Predicting the result of a single observation"
   ]
  },
  {
   "cell_type": "markdown",
   "metadata": {
    "colab_type": "text",
    "id": "CGRo3eacgDdC"
   },
   "source": [
    "Use our ANN model to predict if the customer with the following informations will leave the bank: \n",
    "\n",
    "Geography: France\n",
    "\n",
    "Credit Score: 600\n",
    "\n",
    "Gender: Male\n",
    "\n",
    "Age: 40 years old\n",
    "\n",
    "Tenure: 3 years\n",
    "\n",
    "Balance: \\$ 60000\n",
    "\n",
    "Number of Products: 2\n",
    "\n",
    "Does this customer have a credit card ? Yes\n",
    "\n",
    "Is this customer an Active Member: Yes\n",
    "\n",
    "Estimated Salary: \\$ 50000\n",
    "\n",
    "So, should we say goodbye to that customer ?"
   ]
  },
  {
   "cell_type": "markdown",
   "metadata": {
    "colab_type": "text",
    "id": "ZhU1LTgPg-kH"
   },
   "source": [
    "**Solution**"
   ]
  },
  {
   "cell_type": "code",
   "execution_count": 18,
   "metadata": {
    "colab": {
     "base_uri": "https://localhost:8080/",
     "height": 34
    },
    "colab_type": "code",
    "id": "2d8IoCCkeWGL",
    "outputId": "957f3970-e197-4c3b-a150-7f69dc567f5d"
   },
   "outputs": [
    {
     "name": "stdout",
     "output_type": "stream",
     "text": [
      "[[False]]\n"
     ]
    }
   ],
   "source": [
    "print(ann.predict(sc.transform([[1, 0, 0, 600, 1, 40, 3, 60000, 2, 1, 1, 50000]])) > 0.5)\n",
    "#never forget to scale ie transform test set for neural networks"
   ]
  },
  {
   "cell_type": "markdown",
   "metadata": {
    "colab_type": "text",
    "id": "wGjx94g2n7OV"
   },
   "source": [
    "Therefore, our ANN model predicts that this customer stays in the bank!\n",
    "\n",
    "**Important note 1:** Notice that the values of the features were all input in a double pair of square brackets. That's because the \"predict\" method always expects a 2D array as the format of its inputs. And putting our values into a double pair of square brackets makes the input exactly a 2D array.\n",
    "\n",
    "**Important note 2:** Notice also that the \"France\" country was not input as a string in the last column but as \"1, 0, 0\" in the first three columns. That's because of course the predict method expects the one-hot-encoded values of the state, and as we see in the first row of the matrix of features X, \"France\" was encoded as \"1, 0, 0\". And be careful to include these values in the first three columns, because the dummy variables are always created in the first columns."
   ]
  },
  {
   "cell_type": "markdown",
   "metadata": {
    "colab_type": "text",
    "id": "u7yx47jPZt11"
   },
   "source": [
    "### Predicting the Test set results"
   ]
  },
  {
   "cell_type": "code",
   "execution_count": 19,
   "metadata": {
    "colab": {
     "base_uri": "https://localhost:8080/",
     "height": 137
    },
    "colab_type": "code",
    "id": "nIyEeQdRZwgs",
    "outputId": "82330ba8-9bdc-4fd1-d3cf-b6d78ee7c2a3"
   },
   "outputs": [
    {
     "name": "stdout",
     "output_type": "stream",
     "text": [
      "[[0 0]\n",
      " [0 1]\n",
      " [0 0]\n",
      " ...\n",
      " [0 0]\n",
      " [0 0]\n",
      " [0 0]]\n"
     ]
    }
   ],
   "source": [
    "y_pred = ann.predict(X_test)\n",
    "#predict() method is a function of Sequential() class being called by its object 'ann'\n",
    "y_pred = (y_pred > 0.5)\n",
    "print(np.concatenate((y_pred.reshape(len(y_pred),1), y_test.reshape(len(y_test),1)),1))\n",
    "#reshape pred and test vectors from horizontally to vertically for comparison using concatenate() function"
   ]
  },
  {
   "cell_type": "markdown",
   "metadata": {
    "colab_type": "text",
    "id": "o0oyfLWoaEGw"
   },
   "source": [
    "### Making the Confusion Matrix"
   ]
  },
  {
   "cell_type": "code",
   "execution_count": 20,
   "metadata": {
    "colab": {
     "base_uri": "https://localhost:8080/",
     "height": 68
    },
    "colab_type": "code",
    "id": "ci6K_r6LaF6P",
    "outputId": "4d854e9e-22d5-432f-f6e5-a102fe3ae0bd"
   },
   "outputs": [
    {
     "name": "stdout",
     "output_type": "stream",
     "text": [
      "[[1505   90]\n",
      " [ 192  213]]\n"
     ]
    },
    {
     "data": {
      "text/plain": [
       "0.859"
      ]
     },
     "execution_count": 20,
     "metadata": {},
     "output_type": "execute_result"
    }
   ],
   "source": [
    "from sklearn.metrics import confusion_matrix, accuracy_score\n",
    "cm = confusion_matrix(y_test, y_pred)\n",
    "print(cm)\n",
    "accuracy_score(y_test, y_pred)"
   ]
  }
 ],
 "metadata": {
  "colab": {
   "collapsed_sections": [],
   "name": "artificial_neural_network.ipynb",
   "provenance": [],
   "toc_visible": true
  },
  "kernelspec": {
   "display_name": "Python 3",
   "language": "python",
   "name": "python3"
  },
  "language_info": {
   "codemirror_mode": {
    "name": "ipython",
    "version": 3
   },
   "file_extension": ".py",
   "mimetype": "text/x-python",
   "name": "python",
   "nbconvert_exporter": "python",
   "pygments_lexer": "ipython3",
   "version": "3.7.6"
  }
 },
 "nbformat": 4,
 "nbformat_minor": 1
}
